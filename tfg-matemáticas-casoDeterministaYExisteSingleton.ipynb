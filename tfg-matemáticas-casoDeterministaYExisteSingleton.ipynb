{
 "cells": [
  {
   "cell_type": "markdown",
   "metadata": {},
   "source": [
    "# Caso de estudio 1:\n",
    "## Determinista & al menos uno de los dos subconjuntos de funciones correctas o incorrectas es singleton.\n",
    "### Algoritmos genéticos\n"
   ]
  },
  {
   "cell_type": "markdown",
   "metadata": {},
   "source": [
    "Se define una clase ProblemaGenetico que incluye los elementos necesarios para la representación de un problema de optimización que se va a resolver con un algoritmo genético. Los elementos son los explicados en la memoria:\n",
    "\n",
    " - genes: lista de genes usados en el genotipo de los estados.\n",
    " - longitud_individuos: longitud de los cromosomas\n",
    " - decodifica: función de obtiene el fenotipo a partir del genotipo.\n",
    " - fitness: función de valoración.\n",
    " - muta: función de mutación de un cromosoma \n",
    " - cruza: función de cruce de un par de cromosomas"
   ]
  },
  {
   "cell_type": "code",
   "execution_count": 1,
   "metadata": {},
   "outputs": [],
   "source": [
    "import random"
   ]
  },
  {
   "cell_type": "markdown",
   "metadata": {},
   "source": [
    "### INSTANCIA DEL PROBLEMA Y PRUEBAS\n",
    "Necesitamos una nueva clase para este tipo de problemas ya que es necesario pasarle más información al instanciarlos. A parte de la información que ya le pasábamos antes, es necesario conocer el número de tests."
   ]
  },
  {
   "cell_type": "code",
   "execution_count": 2,
   "metadata": {},
   "outputs": [
    {
     "ename": "NameError",
     "evalue": "name 'ProblemaGenetico' is not defined",
     "output_type": "error",
     "traceback": [
      "\u001b[0;31m---------------------------------------------------------------------------\u001b[0m",
      "\u001b[0;31mNameError\u001b[0m                                 Traceback (most recent call last)",
      "\u001b[0;32m<ipython-input-2-0b257a0367f0>\u001b[0m in \u001b[0;36m<module>\u001b[0;34m\u001b[0m\n\u001b[0;32m----> 1\u001b[0;31m \u001b[0;32mclass\u001b[0m \u001b[0mProblemaGenéticoCaso1\u001b[0m\u001b[0;34m(\u001b[0m\u001b[0mProblemaGenetico\u001b[0m\u001b[0;34m)\u001b[0m\u001b[0;34m:\u001b[0m\u001b[0;34m\u001b[0m\u001b[0;34m\u001b[0m\u001b[0m\n\u001b[0m\u001b[1;32m      2\u001b[0m     \u001b[0;32mdef\u001b[0m \u001b[0m__init__\u001b[0m\u001b[0;34m(\u001b[0m\u001b[0mself\u001b[0m\u001b[0;34m,\u001b[0m \u001b[0mgenes\u001b[0m\u001b[0;34m,\u001b[0m\u001b[0mfun_dec\u001b[0m\u001b[0;34m,\u001b[0m\u001b[0mfun_muta\u001b[0m \u001b[0;34m,\u001b[0m \u001b[0mfun_cruza\u001b[0m\u001b[0;34m,\u001b[0m \u001b[0mfun_fitness\u001b[0m\u001b[0;34m,\u001b[0m \u001b[0mnTests\u001b[0m\u001b[0;34m)\u001b[0m\u001b[0;34m:\u001b[0m\u001b[0;34m\u001b[0m\u001b[0;34m\u001b[0m\u001b[0m\n\u001b[1;32m      3\u001b[0m         \u001b[0mself\u001b[0m\u001b[0;34m.\u001b[0m\u001b[0mgenes\u001b[0m \u001b[0;34m=\u001b[0m \u001b[0mgenes\u001b[0m\u001b[0;34m\u001b[0m\u001b[0;34m\u001b[0m\u001b[0m\n\u001b[1;32m      4\u001b[0m         \u001b[0mself\u001b[0m\u001b[0;34m.\u001b[0m\u001b[0mfun_dec\u001b[0m \u001b[0;34m=\u001b[0m \u001b[0mfun_dec\u001b[0m\u001b[0;34m\u001b[0m\u001b[0;34m\u001b[0m\u001b[0m\n\u001b[1;32m      5\u001b[0m         \u001b[0mself\u001b[0m\u001b[0;34m.\u001b[0m\u001b[0mfun_cruza\u001b[0m \u001b[0;34m=\u001b[0m \u001b[0mfun_cruza\u001b[0m\u001b[0;34m\u001b[0m\u001b[0;34m\u001b[0m\u001b[0m\n",
      "\u001b[0;31mNameError\u001b[0m: name 'ProblemaGenetico' is not defined"
     ]
    }
   ],
   "source": [
    "class ProblemaGenéticoCaso1(ProblemaGenetico):\n",
    "    def __init__(self, genes,fun_dec,fun_muta , fun_cruza, fun_fitness, nTests):\n",
    "        self.genes = genes\n",
    "        self.fun_dec = fun_dec\n",
    "        self.fun_cruza = fun_cruza\n",
    "        self.fun_muta = fun_muta\n",
    "        self.fun_fitness = fun_fitness\n",
    "        self.longitud_individuos = nTests\n",
    "        self.nTests = nTests #número de tests que tengo\n",
    "\n",
    "        \"\"\"Constructor de la clase\"\"\"\n",
    "        \n",
    "    def decodifica(self, genotipo):\n",
    "        fenotipo = self.fun_dec(self.nTests, genotipo)\n",
    "        \"\"\"Devuelve el fenotipo a partir del genotipo\"\"\"\n",
    "        return fenotipo\n",
    "    \n",
    "    def fitness(self, cromosoma):\n",
    "        valoracion = self.fun_fitness(self.nTests, cromosoma)\n",
    "        \"\"\"Función de valoración\"\"\"\n",
    "        return valoracion\n",
    "    \n",
    "    def cruza(self, cromosoma1, cromosoma2):\n",
    "        cruce = self.fun_cruza(cromosoma1, cromosoma2) \n",
    "        \"\"\"Devuelve el cruce de un par de cromosomas\"\"\"\n",
    "        return cruce  #devuelve los dos cruces \n",
    "\n",
    "    def muta(self, cromosoma, prob):\n",
    "        mutacion = self.fun_muta( self.nTests, cromosoma, prob)\n",
    "        \"\"\"Devuelve el cromosoma mutado\"\"\"   \n",
    "        return mutacion\n",
    "    \n",
    "    \n",
    "    \n",
    "    "
   ]
  },
  {
   "cell_type": "markdown",
   "metadata": {},
   "source": [
    "   - Definimos una función poblacion_inicial(problema_genetico,tamaño), para definir una población inicial de un tamaño dado, para una instancia dada de la clase anterior ProblemaGenetico\n",
    "\n",
    "usamos random.choice\n",
    "\n",
    "   - Definimos una función de cruce que recibe una instancia de Problema_Genetico y una población de padres (supondremos que hay un número par de padres), obtiene la población resultante de cruzarlos de dos en dos (en el orden en que aparecen)\n",
    "\n",
    "cruza_padres(problema_genetico,padres)\n",
    "\n",
    "   - Definimos la función de mutación que recibe una instancia de Problema_Genetico, una población y una probabilidad de mutación, obtiene la población resultante de aplicar operaciones de mutación a cada individuo llamando a la función muta definida para el problema genético.\n",
    "muta_individuos(problema_genetico, poblacion, prob)\n",
    "\n",
    "   - Definimos la función auxiliar nueva_generacion(problema_genetico,poblacion,n_padres,n_directos,prob_mutar) que dada una población calcula la siguiente generación."
   ]
  },
  {
   "cell_type": "code",
   "execution_count": null,
   "metadata": {},
   "outputs": [],
   "source": [
    "def cruza_padres(problema_genetico,padres):\n",
    "    l = []\n",
    "    n=len(padres)\n",
    "    for i in range (n//2):\n",
    "        cruces = problema_genetico.cruza( padres[2 * i], padres[2 * i + 1] )\n",
    "        l.append(cruces[0].copy())\n",
    "        l.append(cruces[1].copy())\n",
    "    return l"
   ]
  },
  {
   "cell_type": "code",
   "execution_count": 3,
   "metadata": {},
   "outputs": [],
   "source": [
    "def muta_individuos(problema_genetico, poblacion, prob):\n",
    "    # hay que llamar a  problema_genetico.muta(x,prob) para todos los individuos de la poblacion.\n",
    "    for x in poblacion:\n",
    "        problema_genetico.muta(x, prob)\n",
    "    return poblacion"
   ]
  },
  {
   "cell_type": "code",
   "execution_count": 4,
   "metadata": {},
   "outputs": [],
   "source": [
    "#Definir la función nueva_generacion\n",
    "def nueva_generacion(problema_genetico, k, opt, poblacion, n_padres, n_directos, prob_mutar):\n",
    "    padres2 = seleccion_por_torneo(problema_genetico, poblacion, n_directos, k,opt) \n",
    "    padres1 = seleccion_por_torneo(problema_genetico, poblacion, n_padres , k, opt)\n",
    "    cruces =  cruza_padres(problema_genetico,padres1) #devuelve cromosomas\n",
    "    generacion = padres2 + cruces\n",
    "    resultado_mutaciones = muta_individuos(problema_genetico, generacion, prob_mutar)\n",
    "    return resultado_mutaciones"
   ]
  },
  {
   "cell_type": "code",
   "execution_count": 5,
   "metadata": {},
   "outputs": [],
   "source": [
    "def algoritmo_genetico_Caso1(problema_genetico,k,opt,ngen,size,prop_cruces,prob_mutar):\n",
    "    poblacion = poblacion_inicial_Caso1(problema_genetico,size)\n",
    "    n_padres=round(size*prop_cruces)\n",
    "    n_padres= int (n_padres if n_padres%2==0 else n_padres-1)\n",
    "    n_directos = size-n_padres #los que pongo directamente sin cruzar\n",
    "    for _ in range(ngen):\n",
    "        poblacion= nueva_generacion(problema_genetico,k,opt,poblacion,n_padres, n_directos,prob_mutar)\n",
    "\n",
    "    mejor_cr= opt(poblacion, key=problema_genetico.fitness) #opt es max o min por ej, es una fun llega como arg\n",
    "    mejor=problema_genetico.decodifica(mejor_cr)\n",
    "\n",
    "\n",
    "    return (mejor,problema_genetico.fitness(mejor_cr)) \n",
    "\n"
   ]
  },
  {
   "cell_type": "markdown",
   "metadata": {},
   "source": [
    "### REPRESENTACIÓN:\n",
    "Cada solución candidata o cromosoma es un vector de bits en binario, cada gen tieneun único alelo (bit) que representa si aplicamos ese test o no."
   ]
  },
  {
   "cell_type": "markdown",
   "metadata": {},
   "source": [
    "### POBLACIÓN INICIAL:\n",
    "Número N de soluciones candidatas generadas aleatoriamente, los genes deben tener valores 0/1 y no otros.\n",
    "Es decir, generamos listas de T elementos, cuyos valores son 0/1.\n",
    "Tenemos un vector "
   ]
  },
  {
   "cell_type": "code",
   "execution_count": 6,
   "metadata": {},
   "outputs": [],
   "source": [
    "def poblacion_inicial_Caso1(problema_genetico, tam):\n",
    "    n = tam #número de cromosomas\n",
    "    numTestsTotal = problema_genetico.longitud_individuos\n",
    "    genes = problema_genetico.genes \n",
    "    poblacion = list()\n",
    "    for i in range(n): # cada cromosoma es una iteración\n",
    "        poblacion.append( [random.choice(genes) for j in range(numTestsTotal)] ) #un cromosoma\n",
    "    return poblacion\n"
   ]
  },
  {
   "cell_type": "markdown",
   "metadata": {},
   "source": [
    "DUDA: si he definido que es de 0/1 el valor"
   ]
  },
  {
   "cell_type": "markdown",
   "metadata": {},
   "source": [
    "### SELECCIÓN:\n",
    "Usamos el algoritmo de selección por torneo \n"
   ]
  },
  {
   "cell_type": "code",
   "execution_count": 7,
   "metadata": {},
   "outputs": [],
   "source": [
    "def seleccion_por_torneo(problema_genetico, poblacion, n, k, opt):\n",
    "    \"\"\"Selección por torneo de n individuos de una población. Siendo k el nº de participantes\n",
    "        y opt la función max o min.\"\"\"\n",
    "    seleccionados = []\n",
    "    for i in range(n):\n",
    "        participantes = random.sample(poblacion,k)\n",
    "        seleccionado = opt(participantes, key=problema_genetico.fitness) \n",
    "        #opt es por ejemplo max si es mejor ser máximo o min si minimo\n",
    "        opt(poblacion, key=problema_genetico.fitness)\n",
    "        seleccionados.append(seleccionado)\n",
    "        # poblacion.remove(seleccionado)\n",
    "    return seleccionados  "
   ]
  },
  {
   "cell_type": "markdown",
   "metadata": {},
   "source": [
    "### MUTACIÓN: \n",
    "La función de mutación muta uno de los genes cambiando su valor. El nuevo valor del gen mutado será el contrario 0/1. Por ello, podemos tener un cromosoma con un test más o un test menos."
   ]
  },
  {
   "cell_type": "code",
   "execution_count": 8,
   "metadata": {},
   "outputs": [],
   "source": [
    "def mutacion_caso1( nTests, cromosoma, prob):  \n",
    "    #n es el tamaño del cromosoma, seleccionamos la posición que cambiamos\n",
    "    p = random.randint(0, nTests - 1)\n",
    "    if prob > random.uniform(0, 1): #solo mutamos según la probabilidad de mutación\n",
    "        if(cromosoma[p] == 0): \n",
    "            cromosoma[p] = 1\n",
    "        else: cromosoma[p] = 0\n",
    "       \n",
    "    return cromosoma\n",
    "\n"
   ]
  },
  {
   "cell_type": "markdown",
   "metadata": {},
   "source": [
    "\n",
    "### CRUCE:\n",
    "Usamos el algoritmo de cruce por dos puntos. "
   ]
  },
  {
   "cell_type": "code",
   "execution_count": 9,
   "metadata": {},
   "outputs": [],
   "source": [
    "import math\n",
    "def cruzar_caso1(cromosoma1, cromosoma2):\n",
    "    \"\"\"Cruza los cromosomas: vamos a emplear cruce por 2 puntos.\"\"\"\n",
    "    # Puede generar individuos con más o menos tests aplicados que los padres, por combinarlos, \n",
    "    # pero la suma de tests realizados por los padres será la suma de tests realizada por los hijos\n",
    "    l = len(cromosoma1) # por cómo está definido el problema ambos tienen la misma longitud, el número de tests que hay\n",
    "    corte1 = random.randint(0, l-1) \n",
    "    corte2 = random.randint(corte1, l-1)\n",
    "    cruce1 = cromosoma1[0:corte1]+cromosoma2[corte1:corte2+1]+cromosoma1[corte2+1:l]\n",
    "    cruce2 = cromosoma2[0:corte1]+cromosoma1[corte1:corte2+1]+cromosoma2[corte2+1:l]\n",
    "  \n",
    "\n",
    "    return [cruce1, cruce2]\n"
   ]
  },
  {
   "cell_type": "markdown",
   "metadata": {},
   "source": [
    "### DECODIFICACION:\n",
    "\n",
    "En la función de decodificación, hacemos lo mismo que en la función fitness pero además sacamos la solución que hemos obtenido. Es decir, al final tenemos una tupla con una lista de tests y el número de tests que aplico de la forma:\n",
    "\n",
    "([ test1, ... , testk], nºTests)\n",
    "\n"
   ]
  },
  {
   "cell_type": "code",
   "execution_count": 10,
   "metadata": {},
   "outputs": [],
   "source": [
    "def decodifica_caso1(nTests, cromosoma):\n",
    "    testsRealizo = 0\n",
    "    fenotipo = list()\n",
    "    for test in range (0, nTests):\n",
    "        tomado = cromosoma[test] #si es 0 no la realizamos\n",
    "\n",
    "        if tomado == 1:\n",
    "            fenotipo.append( cromosoma[test] )\n",
    "\n",
    "        testsRealizo += cromosoma[test] #nos indica cuántos realizamos \n",
    "        return (tuple(fenotipo), testsRealizo)\n",
    "    "
   ]
  },
  {
   "cell_type": "code",
   "execution_count": 11,
   "metadata": {},
   "outputs": [],
   "source": [
    "genes = [0,1]\n",
    "nTests = 5\n",
    "\n",
    "\n"
   ]
  },
  {
   "cell_type": "markdown",
   "metadata": {},
   "source": [
    "### FITNESS\n",
    "\n",
    "Vamos a aplicar los tests que aparecen en nuestro cromosoma. Sumaremos al fitness el número de estos tests. Una vez todos estos tests sean alicados, sumaremos 1 por cada IUT restante del conjunto con más de un elemento (correct/incorrect). Es decir, de las que aún no han sido eliminadas, sumaremos max(|correct|,|incorrect|). Como tratamos con el caso no determinista, esto será suficiente.\n",
    "\n",
    "\n",
    "#### ALGORITMO FITNESS: \n",
    "\n",
    "\n",
    "Vamos a recorrer el cromosoma: cada posición i = 1 representa que tomamos ese test. Como buscamos el caso peor, no importa el orden por ser el caso 1 determinista. "
   ]
  },
  {
   "cell_type": "code",
   "execution_count": 12,
   "metadata": {},
   "outputs": [],
   "source": [
    "def fun_fitness_caso1(cromosoma, correct, incorrect):\n",
    "    # Nuestra función de fitness suma 1 por cada test que tomamos en el cromosoma  \n",
    "    N = int(math.sqrt(len(cromosoma)))\n",
    "    fitness = 0\n",
    "    for i in range(cromosoma.size()):\n",
    "        fitness += cromosoma[i] #vale sumarlo porque es 0 si no se toma el test\n",
    "    if correct.size() == 1:\n",
    "        fitness += incorrect.size()\n",
    "    else: \n",
    "        fitness += correct.size()\n",
    "    return fitness\n"
   ]
  }
 ],
 "metadata": {
  "kernelspec": {
   "display_name": "Python 3",
   "language": "python",
   "name": "python3"
  },
  "language_info": {
   "codemirror_mode": {
    "name": "ipython",
    "version": 3
   },
   "file_extension": ".py",
   "mimetype": "text/x-python",
   "name": "python",
   "nbconvert_exporter": "python",
   "pygments_lexer": "ipython3",
   "version": "3.8.3"
  }
 },
 "nbformat": 4,
 "nbformat_minor": 4
}
